{
 "cells": [
  {
   "attachments": {},
   "cell_type": "markdown",
   "id": "fde98ddf",
   "metadata": {},
   "source": [
    "# Creating a basic chat experience with context variables\n",
    "\n",
    "In this example, we show how you can build a simple chat bot by sending and updating context with your requests. \n",
    "\n",
    "We introduce the Context Variables object which in this demo functions similarly as a key-value store that you can use when running the kernel.\n",
    "\n",
    "The context is local (i.e. in your computer's RAM) and not persisted anywhere beyond the life of this Jupyter session.\n",
    "\n",
    "In future examples, we will show how to persist the context on disk so that you can bring it into your applications.  \n",
    "\n",
    "In this chat scenario, as the user talks back and forth with the bot, the context gets populated with the history of the conversation. During each new run of the kernel, the context can provide the AI with its variables' content. "
   ]
  },
  {
   "cell_type": "code",
   "execution_count": 1,
   "id": "68301108",
   "metadata": {},
   "outputs": [],
   "source": [
    "import semantic_kernel as sk\n",
    "from semantic_kernel.connectors.ai.open_ai import AzureChatCompletion, OpenAIChatCompletion\n",
    "\n",
    "kernel = sk.Kernel()\n",
    "\n",
    "useAzureOpenAI = False\n",
    "\n",
    "# Configure AI service used by the kernel\n",
    "if useAzureOpenAI:\n",
    "    deployment, api_key, endpoint = sk.azure_openai_settings_from_dot_env()\n",
    "    kernel.add_chat_service(\"chat_completion\", AzureChatCompletion(deployment, endpoint, api_key))\n",
    "else:\n",
    "    api_key, org_id = sk.openai_settings_from_dot_env()\n",
    "    kernel.add_chat_service(\"chat-gpt\", OpenAIChatCompletion(\"gpt-3.5-turbo\", api_key, org_id))\n"
   ]
  },
  {
   "attachments": {},
   "cell_type": "markdown",
   "id": "7971783d",
   "metadata": {},
   "source": [
    "Let's define a prompt outlining a dialogue chat bot."
   ]
  },
  {
   "cell_type": "code",
   "execution_count": 2,
   "id": "e84a05fc",
   "metadata": {},
   "outputs": [],
   "source": [
    "sk_prompt = \"\"\"\n",
    "ChatBot can have a conversation with you about any topic.\n",
    "It can give explicit instructions or say 'I don't know' if it does not have an answer.\n",
    "\n",
    "{{$history}}\n",
    "User: {{$user_input}}\n",
    "ChatBot: \"\"\""
   ]
  },
  {
   "attachments": {},
   "cell_type": "markdown",
   "id": "61716b16",
   "metadata": {},
   "source": [
    "Register your semantic function"
   ]
  },
  {
   "cell_type": "code",
   "execution_count": 3,
   "id": "a3e4b160",
   "metadata": {},
   "outputs": [],
   "source": [
    "chat_function = kernel.create_semantic_function(sk_prompt, \"ChatBot\", max_tokens=2000, temperature=0.7, top_p=0.5)"
   ]
  },
  {
   "attachments": {},
   "cell_type": "markdown",
   "id": "6e8a676f",
   "metadata": {},
   "source": [
    "Initialize your context"
   ]
  },
  {
   "cell_type": "code",
   "execution_count": 4,
   "id": "a4be7394",
   "metadata": {},
   "outputs": [],
   "source": [
    "context = kernel.create_new_context()\n",
    "context[\"history\"] = \"\""
   ]
  },
  {
   "attachments": {},
   "cell_type": "markdown",
   "id": "4ce7c497",
   "metadata": {},
   "source": [
    "Chat with the Bot"
   ]
  },
  {
   "cell_type": "code",
   "execution_count": 5,
   "id": "5ec41eb8",
   "metadata": {},
   "outputs": [
    {
     "name": "stdout",
     "output_type": "stream",
     "text": [
      "Sure! What genre or type of books are you interested in?\n"
     ]
    }
   ],
   "source": [
    "context[\"user_input\"] = \"Hi, I'm looking for book suggestions\"\n",
    "bot_answer = await chat_function.invoke_async(context=context)\n",
    "print(bot_answer)"
   ]
  },
  {
   "attachments": {},
   "cell_type": "markdown",
   "id": "a5b03748",
   "metadata": {},
   "source": [
    "Update the history with the output"
   ]
  },
  {
   "cell_type": "code",
   "execution_count": 6,
   "id": "f50f517d",
   "metadata": {},
   "outputs": [
    {
     "name": "stdout",
     "output_type": "stream",
     "text": [
      "\n",
      "User: Hi, I'm looking for book suggestions\n",
      "ChatBot: Sure! What genre or type of books are you interested in?\n",
      "\n"
     ]
    }
   ],
   "source": [
    "context[\"history\"] += f\"\\nUser: {context['user_input']}\\nChatBot: {bot_answer}\\n\"\n",
    "print(context[\"history\"])"
   ]
  },
  {
   "attachments": {},
   "cell_type": "markdown",
   "id": "23a2eb02",
   "metadata": {},
   "source": [
    "Keep Chatting!"
   ]
  },
  {
   "cell_type": "code",
   "execution_count": 7,
   "id": "c59efe45",
   "metadata": {},
   "outputs": [],
   "source": [
    "async def chat(input_text: str) -> None:\n",
    "    # Save new message in the context variables\n",
    "    print(f\"User: {input_text}\")\n",
    "    context[\"user_input\"] = input_text\n",
    "\n",
    "    # Process the user message and get an answer\n",
    "    answer = await chat_function.invoke_async(context=context)\n",
    "\n",
    "    # Show the response\n",
    "    print(f\"ChatBot: {answer}\")\n",
    "\n",
    "    # Append the new interaction to the chat history\n",
    "    context[\"history\"] += f\"\\nUser: {input_text}\\nChatBot: {answer}\\n\""
   ]
  },
  {
   "cell_type": "code",
   "execution_count": 8,
   "id": "06ee244e",
   "metadata": {},
   "outputs": [
    {
     "name": "stdout",
     "output_type": "stream",
     "text": [
      "User: I love history and philosophy, I'd like to learn something new about Greece, any suggestion?\n",
      "ChatBot: I would recommend \"The Histories\" by Herodotus. It is considered one of the earliest works of history and provides a detailed account of ancient Greece, including the Persian Wars. Another great book is \"The Republic\" by Plato, which explores various philosophical ideas and includes discussions on justice, politics, and the ideal society.\n"
     ]
    }
   ],
   "source": [
    "await chat(\"I love history and philosophy, I'd like to learn something new about Greece, any suggestion?\")"
   ]
  },
  {
   "cell_type": "code",
   "execution_count": 9,
   "id": "82be4e7e",
   "metadata": {},
   "outputs": [
    {
     "name": "stdout",
     "output_type": "stream",
     "text": [
      "User: that sounds interesting, what is it about?\n",
      "ChatBot: \"The Histories\" by Herodotus is a collection of nine books that provide a comprehensive account of various events and cultures of the ancient world, with a particular focus on the Persian Wars. Herodotus explores the causes and consequences of the wars, delving into the political, social, and cultural aspects of the time. He also includes fascinating anecdotes and stories about the people and places he encounters during his travels.\n",
      "\n",
      "\"The Republic\" by Plato is a philosophical dialogue that explores the nature of justice, the ideal society, and the role of the philosopher in governance. The book is set as a conversation between Socrates and several other characters, and it covers a wide range of topics, including the nature of reality, the forms of government, and the education of citizens. It is considered one of the most influential works in Western philosophy.\n"
     ]
    }
   ],
   "source": [
    "await chat(\"that sounds interesting, what is it about?\")"
   ]
  },
  {
   "cell_type": "code",
   "execution_count": 10,
   "id": "82fe0139",
   "metadata": {},
   "outputs": [
    {
     "name": "stdout",
     "output_type": "stream",
     "text": [
      "User: if I read that book, what exactly will I learn about Greek history?\n",
      "ChatBot: If you read \"The Histories\" by Herodotus, you will learn about various aspects of Greek history during the Persian Wars. Herodotus provides detailed accounts of the events leading up to the wars, the battles themselves, and their aftermath. He also explores the political and cultural dynamics of ancient Greece, including the city-states, their alliances, and their interactions with other civilizations.\n",
      "\n",
      "Through Herodotus' narrative, you will gain insights into the political systems, military strategies, and cultural practices of ancient Greece. You will also learn about the interactions between the Greeks and the Persians, as well as the cultural and religious differences between the two civilizations.\n",
      "\n",
      "Overall, \"The Histories\" offers a comprehensive and engaging exploration of Greek history during a significant period, providing valuable insights into the ancient world.\n"
     ]
    }
   ],
   "source": [
    "await chat(\"if I read that book, what exactly will I learn about Greek history?\")"
   ]
  },
  {
   "cell_type": "code",
   "execution_count": 11,
   "id": "55b3a9f2",
   "metadata": {},
   "outputs": [
    {
     "name": "stdout",
     "output_type": "stream",
     "text": [
      "User: could you list some more books I could read about this topic?\n",
      "ChatBot: Certainly! Here are some more books you could consider reading about Greek history:\n",
      "\n",
      "1. \"The Peloponnesian War\" by Thucydides - This book provides a detailed account of the Peloponnesian War between Athens and Sparta, offering insights into the political and military strategies of the time.\n",
      "\n",
      "2. \"The Greek Way\" by Edith Hamilton - This book explores the cultural and intellectual achievements of ancient Greece, discussing topics such as art, literature, philosophy, and politics.\n",
      "\n",
      "3. \"The Greek World 479-323 BC\" by Simon Hornblower - This book provides a comprehensive overview of Greek history during the Classical period, covering topics such as the rise of Macedon, the conquests of Alexander the Great, and the Hellenistic world.\n",
      "\n",
      "4. \"The Rise and Fall of Athens: Nine Greek Lives\" by Plutarch - This book offers biographies of nine prominent figures from ancient Athens, including Pericles, Themistocles, and Alcibiades, providing insights into the political and cultural dynamics of the city-state.\n",
      "\n",
      "5. \"The Greeks: History, Culture, and Society\" edited by Ian Morris and Barry Powell - This book is a collection of essays that cover various aspects of Greek history, culture, and society, offering a comprehensive and multidisciplinary approach to the subject.\n",
      "\n",
      "These books should provide you with a deeper understanding of Greek history and culture, allowing you to explore different perspectives and topics within the field.\n"
     ]
    }
   ],
   "source": [
    "await chat(\"could you list some more books I could read about this topic?\")"
   ]
  },
  {
   "attachments": {},
   "cell_type": "markdown",
   "id": "c30bac97",
   "metadata": {},
   "source": [
    "After chatting for a while, we have built a growing history, which we are attaching to each prompt and which contains the full conversation. Let's take a look!"
   ]
  },
  {
   "cell_type": "code",
   "execution_count": 12,
   "id": "5e34ae55",
   "metadata": {},
   "outputs": [
    {
     "name": "stdout",
     "output_type": "stream",
     "text": [
      "\n",
      "User: Hi, I'm looking for book suggestions\n",
      "ChatBot: Sure! What genre or type of books are you interested in?\n",
      "\n",
      "User: I love history and philosophy, I'd like to learn something new about Greece, any suggestion?\n",
      "ChatBot: I would recommend \"The Histories\" by Herodotus. It is considered one of the earliest works of history and provides a detailed account of ancient Greece, including the Persian Wars. Another great book is \"The Republic\" by Plato, which explores various philosophical ideas and includes discussions on justice, politics, and the ideal society.\n",
      "\n",
      "User: that sounds interesting, what is it about?\n",
      "ChatBot: \"The Histories\" by Herodotus is a collection of nine books that provide a comprehensive account of various events and cultures of the ancient world, with a particular focus on the Persian Wars. Herodotus explores the causes and consequences of the wars, delving into the political, social, and cultural aspects of the time. He also includes fascinating anecdotes and stories about the people and places he encounters during his travels.\n",
      "\n",
      "\"The Republic\" by Plato is a philosophical dialogue that explores the nature of justice, the ideal society, and the role of the philosopher in governance. The book is set as a conversation between Socrates and several other characters, and it covers a wide range of topics, including the nature of reality, the forms of government, and the education of citizens. It is considered one of the most influential works in Western philosophy.\n",
      "\n",
      "User: if I read that book, what exactly will I learn about Greek history?\n",
      "ChatBot: If you read \"The Histories\" by Herodotus, you will learn about various aspects of Greek history during the Persian Wars. Herodotus provides detailed accounts of the events leading up to the wars, the battles themselves, and their aftermath. He also explores the political and cultural dynamics of ancient Greece, including the city-states, their alliances, and their interactions with other civilizations.\n",
      "\n",
      "Through Herodotus' narrative, you will gain insights into the political systems, military strategies, and cultural practices of ancient Greece. You will also learn about the interactions between the Greeks and the Persians, as well as the cultural and religious differences between the two civilizations.\n",
      "\n",
      "Overall, \"The Histories\" offers a comprehensive and engaging exploration of Greek history during a significant period, providing valuable insights into the ancient world.\n",
      "\n",
      "User: could you list some more books I could read about this topic?\n",
      "ChatBot: Certainly! Here are some more books you could consider reading about Greek history:\n",
      "\n",
      "1. \"The Peloponnesian War\" by Thucydides - This book provides a detailed account of the Peloponnesian War between Athens and Sparta, offering insights into the political and military strategies of the time.\n",
      "\n",
      "2. \"The Greek Way\" by Edith Hamilton - This book explores the cultural and intellectual achievements of ancient Greece, discussing topics such as art, literature, philosophy, and politics.\n",
      "\n",
      "3. \"The Greek World 479-323 BC\" by Simon Hornblower - This book provides a comprehensive overview of Greek history during the Classical period, covering topics such as the rise of Macedon, the conquests of Alexander the Great, and the Hellenistic world.\n",
      "\n",
      "4. \"The Rise and Fall of Athens: Nine Greek Lives\" by Plutarch - This book offers biographies of nine prominent figures from ancient Athens, including Pericles, Themistocles, and Alcibiades, providing insights into the political and cultural dynamics of the city-state.\n",
      "\n",
      "5. \"The Greeks: History, Culture, and Society\" edited by Ian Morris and Barry Powell - This book is a collection of essays that cover various aspects of Greek history, culture, and society, offering a comprehensive and multidisciplinary approach to the subject.\n",
      "\n",
      "These books should provide you with a deeper understanding of Greek history and culture, allowing you to explore different perspectives and topics within the field.\n",
      "\n"
     ]
    }
   ],
   "source": [
    "print(context[\"history\"])"
   ]
  }
 ],
 "metadata": {
  "kernelspec": {
   "display_name": "Python 3 (ipykernel)",
   "language": "python",
   "name": "python3"
  },
  "language_info": {
   "codemirror_mode": {
    "name": "ipython",
    "version": 3
   },
   "file_extension": ".py",
   "mimetype": "text/x-python",
   "name": "python",
   "nbconvert_exporter": "python",
   "pygments_lexer": "ipython3",
   "version": "3.11.6"
  }
 },
 "nbformat": 4,
 "nbformat_minor": 5
}
